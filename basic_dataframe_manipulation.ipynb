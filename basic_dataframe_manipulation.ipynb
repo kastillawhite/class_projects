{
 "cells": [
  {
   "cell_type": "markdown",
   "metadata": {
    "id": "F2nMBtOCxMTN"
   },
   "source": [
    "# COGS 118A: Supervised Machine Learning Algorithms\n",
    "## Data Manipulation of DataFrames\n"
   ]
  },
  {
   "cell_type": "markdown",
   "metadata": {
    "id": "Z4HcznxTxYKU"
   },
   "source": [
    "This Jupyter notebook contains starter codes for the coding questions of the assignment. I used this notebook as a starting point to code the answers to the coding questions working with data in a datafram format and manipulating it."
   ]
  },
  {
   "cell_type": "markdown",
   "metadata": {
    "id": "_mj7rYbFBf3h"
   },
   "source": [
    "## 5 (20 points) Coding:  Data Manipulation"
   ]
  },
  {
   "cell_type": "code",
   "execution_count": 156,
   "metadata": {},
   "outputs": [],
   "source": [
    "# Importing Required Packages\n",
    "import numpy as np\n",
    "import pandas as pd\n",
    "from sklearn import datasets"
   ]
  },
  {
   "cell_type": "code",
   "execution_count": 157,
   "metadata": {
    "colab": {
     "base_uri": "https://localhost:8080/",
     "height": 1000
    },
    "id": "Qr-sP7UH9g-f",
    "outputId": "7604fb77-7bd9-4445-d899-06c3258a621b",
    "scrolled": false
   },
   "outputs": [],
   "source": [
    "# Loading the dataset\n",
    "iris = datasets.load_iris()"
   ]
  },
  {
   "cell_type": "code",
   "execution_count": 158,
   "metadata": {},
   "outputs": [],
   "source": [
    "# Creating a Pandas dataframe that contains the dataset\n",
    "# Using no.c_ to concatenate the features and lables into one array\n",
    "iris_df = pd.DataFrame(data = np.c_[iris.data, iris.target],\n",
    "                       columns = iris['feature_names'] + ['target'])"
   ]
  },
  {
   "cell_type": "code",
   "execution_count": 159,
   "metadata": {},
   "outputs": [
    {
     "data": {
      "text/html": [
       "<div>\n",
       "<style scoped>\n",
       "    .dataframe tbody tr th:only-of-type {\n",
       "        vertical-align: middle;\n",
       "    }\n",
       "\n",
       "    .dataframe tbody tr th {\n",
       "        vertical-align: top;\n",
       "    }\n",
       "\n",
       "    .dataframe thead th {\n",
       "        text-align: right;\n",
       "    }\n",
       "</style>\n",
       "<table border=\"1\" class=\"dataframe\">\n",
       "  <thead>\n",
       "    <tr style=\"text-align: right;\">\n",
       "      <th></th>\n",
       "      <th>sepal length (cm)</th>\n",
       "      <th>sepal width (cm)</th>\n",
       "      <th>petal length (cm)</th>\n",
       "      <th>petal width (cm)</th>\n",
       "      <th>target</th>\n",
       "    </tr>\n",
       "  </thead>\n",
       "  <tbody>\n",
       "    <tr>\n",
       "      <th>0</th>\n",
       "      <td>5.1</td>\n",
       "      <td>3.5</td>\n",
       "      <td>1.4</td>\n",
       "      <td>0.2</td>\n",
       "      <td>0.0</td>\n",
       "    </tr>\n",
       "    <tr>\n",
       "      <th>1</th>\n",
       "      <td>4.9</td>\n",
       "      <td>3.0</td>\n",
       "      <td>1.4</td>\n",
       "      <td>0.2</td>\n",
       "      <td>0.0</td>\n",
       "    </tr>\n",
       "    <tr>\n",
       "      <th>2</th>\n",
       "      <td>4.7</td>\n",
       "      <td>3.2</td>\n",
       "      <td>1.3</td>\n",
       "      <td>0.2</td>\n",
       "      <td>0.0</td>\n",
       "    </tr>\n",
       "    <tr>\n",
       "      <th>3</th>\n",
       "      <td>4.6</td>\n",
       "      <td>3.1</td>\n",
       "      <td>1.5</td>\n",
       "      <td>0.2</td>\n",
       "      <td>0.0</td>\n",
       "    </tr>\n",
       "    <tr>\n",
       "      <th>4</th>\n",
       "      <td>5.0</td>\n",
       "      <td>3.6</td>\n",
       "      <td>1.4</td>\n",
       "      <td>0.2</td>\n",
       "      <td>0.0</td>\n",
       "    </tr>\n",
       "  </tbody>\n",
       "</table>\n",
       "</div>"
      ],
      "text/plain": [
       "   sepal length (cm)  sepal width (cm)  petal length (cm)  petal width (cm)  \\\n",
       "0                5.1               3.5                1.4               0.2   \n",
       "1                4.9               3.0                1.4               0.2   \n",
       "2                4.7               3.2                1.3               0.2   \n",
       "3                4.6               3.1                1.5               0.2   \n",
       "4                5.0               3.6                1.4               0.2   \n",
       "\n",
       "   target  \n",
       "0     0.0  \n",
       "1     0.0  \n",
       "2     0.0  \n",
       "3     0.0  \n",
       "4     0.0  "
      ]
     },
     "execution_count": 159,
     "metadata": {},
     "output_type": "execute_result"
    }
   ],
   "source": [
    "iris_df.head()"
   ]
  },
  {
   "cell_type": "code",
   "execution_count": 160,
   "metadata": {},
   "outputs": [
    {
     "name": "stdout",
     "output_type": "stream",
     "text": [
      "Group 1 Feature Means:\n",
      "\n",
      " sepal length (cm)    5.026667\n",
      "sepal width (cm)     3.450000\n",
      "petal length (cm)    1.473333\n",
      "petal width (cm)     0.246667\n",
      "\n",
      "Shape (4,)\n",
      "\n",
      "Group 2 Feature Means:\n",
      "\n",
      " sepal length (cm)    5.350000\n",
      "sepal width (cm)     3.220000\n",
      "petal length (cm)    2.420000\n",
      "petal width (cm)     0.623333\n",
      "\n",
      "Shape (4,)\n",
      "\n",
      "Group 3 Feature Means:\n",
      "\n",
      " sepal length (cm)    5.98\n",
      "sepal width (cm)     2.75\n",
      "petal length (cm)    4.30\n",
      "petal width (cm)     1.34\n",
      "\n",
      "Shape (4,)\n",
      "\n",
      "Group 4 Feature Means:\n",
      "\n",
      " sepal length (cm)    6.253333\n",
      "sepal width (cm)     2.856667\n",
      "petal length (cm)    5.113333\n",
      "petal width (cm)     1.773333\n",
      "\n",
      "Shape (4,)\n",
      "\n",
      "Group 5 Feature Means:\n",
      "\n",
      " sepal length (cm)    6.606667\n",
      "sepal width (cm)     3.010000\n",
      "petal length (cm)    5.483333\n",
      "petal width (cm)     2.013333\n",
      "\n",
      "Shape (4,)\n"
     ]
    }
   ],
   "source": [
    "#MY CODE#\n",
    "\n",
    "#Creating the five subsets of data points\n",
    "#slicing the dataframe by rows and columns to disregard target\n",
    "\n",
    "group1 = iris_df[:30]\n",
    "group2 = iris_df[30:60]\n",
    "group3 = iris_df[60:90]\n",
    "group4 = iris_df[90:120]\n",
    "group5 = iris_df[120:150]\n",
    "\n",
    "\n",
    "#getting the mean of each feature vector in each group\n",
    "#slicing the subset groups into 4 columns, not including the target\n",
    "\n",
    "group1_mean = group1.iloc[:, :4].mean()\n",
    "group2_mean = group2.iloc[:, :4].mean()\n",
    "group3_mean = group3.iloc[:, :4].mean()\n",
    "group4_mean = group4.iloc[:, :4].mean()\n",
    "group5_mean = group5.iloc[:, :4].mean()\n",
    "\n",
    "print('Group 1 Feature Means:\\n\\n', group1_mean.to_string())\n",
    "print('\\nShape', group1_mean.shape)\n",
    "print('\\nGroup 2 Feature Means:\\n\\n', group2_mean.to_string())\n",
    "print('\\nShape', group2_mean.shape)\n",
    "print('\\nGroup 3 Feature Means:\\n\\n', group3_mean.to_string())\n",
    "print('\\nShape', group3_mean.shape)\n",
    "print('\\nGroup 4 Feature Means:\\n\\n', group4_mean.to_string())\n",
    "print('\\nShape', group4_mean.shape)\n",
    "print('\\nGroup 5 Feature Means:\\n\\n', group5_mean.to_string())\n",
    "print('\\nShape', group5_mean.shape)\n",
    "\n",
    "\n",
    "\n"
   ]
  },
  {
   "cell_type": "code",
   "execution_count": 161,
   "metadata": {},
   "outputs": [
    {
     "name": "stdout",
     "output_type": "stream",
     "text": [
      "Iris dataframe with 2nd & 3rd feature removed\n",
      "\n",
      "      sepal length (cm)  petal width (cm)  target\n",
      "0                  5.1               0.2     0.0\n",
      "1                  4.9               0.2     0.0\n",
      "2                  4.7               0.2     0.0\n",
      "3                  4.6               0.2     0.0\n",
      "4                  5.0               0.2     0.0\n",
      "..                 ...               ...     ...\n",
      "145                6.7               2.3     2.0\n",
      "146                6.3               1.9     2.0\n",
      "147                6.5               2.0     2.0\n",
      "148                6.2               2.3     2.0\n",
      "149                5.9               1.8     2.0\n",
      "\n",
      "[150 rows x 3 columns]\n",
      "\n",
      "\n",
      "The mean of the features: \n",
      " sepal length (cm)    5.843333\n",
      "petal width (cm)     1.199333\n",
      "\n",
      "Shape (2,)\n"
     ]
    }
   ],
   "source": [
    "#Dropping the 2nd and 3rd features to create iris_df_new\n",
    "\n",
    "iris_df_new=iris_df.drop(iris_df.iloc[:, 1:3],axis=1)\n",
    "\n",
    "print('Iris dataframe with 2nd & 3rd feature removed\\n\\n', iris_df_new)\n",
    "\n",
    "newdf_mean = iris_df_new.iloc[:, :2].mean()\n",
    "\n",
    "print('\\n\\nThe mean of the features: \\n', newdf_mean.to_string())\n",
    "print('\\nShape', newdf_mean.shape)\n",
    "\n"
   ]
  },
  {
   "cell_type": "code",
   "execution_count": 170,
   "metadata": {},
   "outputs": [
    {
     "name": "stdout",
     "output_type": "stream",
     "text": [
      "Iris dataframe with last 10 datapoints removed\n",
      "\n",
      "      sepal length (cm)  sepal width (cm)  petal length (cm)  petal width (cm)  \\\n",
      "0                  5.1               3.5                1.4               0.2   \n",
      "1                  4.9               3.0                1.4               0.2   \n",
      "2                  4.7               3.2                1.3               0.2   \n",
      "3                  4.6               3.1                1.5               0.2   \n",
      "4                  5.0               3.6                1.4               0.2   \n",
      "..                 ...               ...                ...               ...   \n",
      "135                7.7               3.0                6.1               2.3   \n",
      "136                6.3               3.4                5.6               2.4   \n",
      "137                6.4               3.1                5.5               1.8   \n",
      "138                6.0               3.0                4.8               1.8   \n",
      "139                6.9               3.1                5.4               2.1   \n",
      "\n",
      "     target  \n",
      "0       0.0  \n",
      "1       0.0  \n",
      "2       0.0  \n",
      "3       0.0  \n",
      "4       0.0  \n",
      "..      ...  \n",
      "135     2.0  \n",
      "136     2.0  \n",
      "137     2.0  \n",
      "138     2.0  \n",
      "139     2.0  \n",
      "\n",
      "[140 rows x 5 columns]\n",
      "\n",
      "\n",
      "The mean of the features: \n",
      " sepal length (cm)    5.800000\n",
      "sepal width (cm)     3.059286\n",
      "petal length (cm)    3.645714\n",
      "petal width (cm)     1.130000\n",
      "\n",
      "Shape (4,)\n"
     ]
    }
   ],
   "source": [
    "#Dropping the last 10 data points\n",
    "\n",
    "iris_df_new1 = iris_df.drop(iris_df.index[140:150])\n",
    "\n",
    "print('Iris dataframe with last 10 datapoints removed\\n\\n', iris_df_new1)\n",
    "\n",
    "newdf_mean1 = iris_df_new1.iloc[:, :4].mean()\n",
    "\n",
    "print('\\n\\nThe mean of the features: \\n', newdf_mean1.to_string())\n",
    "print('\\nShape', newdf_mean1.shape)"
   ]
  }
 ],
 "metadata": {
  "colab": {
   "collapsed_sections": [],
   "name": "Assignment1.ipynb",
   "provenance": []
  },
  "kernelspec": {
   "display_name": "Python 3",
   "language": "python",
   "name": "python3"
  },
  "language_info": {
   "codemirror_mode": {
    "name": "ipython",
    "version": 3
   },
   "file_extension": ".py",
   "mimetype": "text/x-python",
   "name": "python",
   "nbconvert_exporter": "python",
   "pygments_lexer": "ipython3",
   "version": "3.8.5"
  },
  "varInspector": {
   "cols": {
    "lenName": 16,
    "lenType": 16,
    "lenVar": 40
   },
   "kernels_config": {
    "python": {
     "delete_cmd_postfix": "",
     "delete_cmd_prefix": "del ",
     "library": "var_list.py",
     "varRefreshCmd": "print(var_dic_list())"
    },
    "r": {
     "delete_cmd_postfix": ") ",
     "delete_cmd_prefix": "rm(",
     "library": "var_list.r",
     "varRefreshCmd": "cat(var_dic_list()) "
    }
   },
   "types_to_exclude": [
    "module",
    "function",
    "builtin_function_or_method",
    "instance",
    "_Feature"
   ],
   "window_display": false
  }
 },
 "nbformat": 4,
 "nbformat_minor": 1
}
