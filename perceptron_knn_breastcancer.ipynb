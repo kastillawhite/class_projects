{
 "cells": [
  {
   "cell_type": "markdown",
   "metadata": {},
   "source": [
    "# COGS 188: AI Algorithms\n",
    "\n",
    "## Perceptron & KNN"
   ]
  },
  {
   "cell_type": "markdown",
   "metadata": {},
   "source": [
    "The goal of this assignment was to be able to use Python to run Percepetron and KNN on a breast cancer dataset which is demonstrated below."
   ]
  },
  {
   "cell_type": "markdown",
   "metadata": {},
   "source": [
    "## First part.  Build a Perceptron to do breast cancer prediction"
   ]
  },
  {
   "cell_type": "code",
   "execution_count": 86,
   "metadata": {},
   "outputs": [],
   "source": [
    "from sklearn.datasets import load_breast_cancer\n",
    "import numpy as np\n",
    "import matplotlib.pyplot as plt\n",
    "import pandas as pd\n",
    "import numpy as np\n",
    "import sklearn.datasets\n",
    "import numpy as np\n",
    "import pandas as pd\n",
    "from sklearn.model_selection import train_test_split\n",
    "from sklearn.metrics import accuracy_score\n",
    "import matplotlib.pyplot as plt\n",
    "\n",
    "%matplotlib inline"
   ]
  },
  {
   "cell_type": "markdown",
   "metadata": {},
   "source": [
    "Load the breast cancer data."
   ]
  },
  {
   "cell_type": "code",
   "execution_count": 87,
   "metadata": {},
   "outputs": [],
   "source": [
    "breast_cancer = sklearn.datasets.load_breast_cancer()"
   ]
  },
  {
   "cell_type": "code",
   "execution_count": 88,
   "metadata": {},
   "outputs": [],
   "source": [
    "data = pd.DataFrame(breast_cancer.data, columns = breast_cancer.feature_names)\n",
    "data['class'] = breast_cancer.target"
   ]
  },
  {
   "cell_type": "code",
   "execution_count": 89,
   "metadata": {},
   "outputs": [],
   "source": [
    "X = data.drop('class', axis = 1)\n",
    "Y = data['class']"
   ]
  },
  {
   "cell_type": "markdown",
   "metadata": {},
   "source": [
    "Separate training and testing data randomly."
   ]
  },
  {
   "cell_type": "code",
   "execution_count": 90,
   "metadata": {},
   "outputs": [],
   "source": [
    "X_train, X_test, Y_train, Y_test = train_test_split(X, Y, test_size = 0.1, stratify= Y, random_state = 1)"
   ]
  },
  {
   "cell_type": "code",
   "execution_count": 91,
   "metadata": {},
   "outputs": [],
   "source": [
    "X_train = X_train.values\n",
    "X_test = X_test.values"
   ]
  },
  {
   "cell_type": "code",
   "execution_count": 92,
   "metadata": {},
   "outputs": [],
   "source": [
    "class Perceptron:\n",
    "  def __init__(self):\n",
    "    self.w = None\n",
    "    self.b = None\n",
    "  \n",
    "  def model(self, x):\n",
    "    # returns the prediction for a single example x\n",
    "    return 0 if (np.dot(self.w, x) <= self.b) else 1\n",
    "\n",
    "  def predict(self, X):\n",
    "    # returns the predictions for multiple examples X\n",
    "    Y = []\n",
    "    for x in X:\n",
    "      res = self.model(x)\n",
    "      Y.append(res)\n",
    "    return np.array(Y)\n",
    "\n",
    "  def fit(self, X, Y, epochs = 500, learning_rate = 0.01):\n",
    "    accuracy = {}\n",
    "    wt_matrix = []\n",
    "    max_accuracy = 0\n",
    "    self.w = np.ones(X.shape[1])\n",
    "    self.b = 0\n",
    "    \n",
    "    for i in range(epochs):\n",
    "      for x, y in zip(X, Y):\n",
    "        y_pred = self.model(x)\n",
    "        if y_pred == 1 and y == 0:\n",
    "        #Hint: use variable learning_rate\n",
    "          self.w = self.w + learning_rate * y * x \n",
    "          self.b = self.b + learning_rate * y\n",
    "      \n",
    "        elif y_pred == 0 and y == 1:\n",
    "          self.w = self.w + learning_rate * (-1) * x \n",
    "          self.b = self.b + learning_rate * (-1)\n",
    "      \n",
    "      wt_matrix.append(self.w)\n",
    "\n",
    "      accuracy[i] = accuracy_score(self.predict(X), Y)\n",
    "      if(accuracy[i] > max_accuracy):\n",
    "        max_accuracy = accuracy[i]\n",
    "        chkptw = self.w \n",
    "        chkptb = self.b \n",
    "    \n",
    "    \n",
    "    self.w = chkptw\n",
    "    self.b = chkptb\n",
    "    print(max_accuracy)\n",
    "\n"
   ]
  },
  {
   "cell_type": "markdown",
   "metadata": {},
   "source": [
    "Initialize and train the Perceptron"
   ]
  },
  {
   "cell_type": "code",
   "execution_count": 93,
   "metadata": {},
   "outputs": [],
   "source": [
    "perceptron = Perceptron()"
   ]
  },
  {
   "cell_type": "code",
   "execution_count": 94,
   "metadata": {},
   "outputs": [
    {
     "name": "stdout",
     "output_type": "stream",
     "text": [
      "0.626953125\n"
     ]
    }
   ],
   "source": [
    "perceptron.fit(X_train, Y_train, 1000, 0.1)"
   ]
  },
  {
   "cell_type": "markdown",
   "metadata": {},
   "source": [
    "Test the perceptron"
   ]
  },
  {
   "cell_type": "code",
   "execution_count": 95,
   "metadata": {},
   "outputs": [
    {
     "name": "stdout",
     "output_type": "stream",
     "text": [
      "0.631578947368421\n"
     ]
    }
   ],
   "source": [
    "Y_pred_test = perceptron.predict(X_test)\n",
    "print(accuracy_score(Y_pred_test, Y_test))"
   ]
  },
  {
   "cell_type": "markdown",
   "metadata": {},
   "source": [
    "## Second part.  Use KNN to do malignant prediction"
   ]
  },
  {
   "cell_type": "code",
   "execution_count": 96,
   "metadata": {},
   "outputs": [
    {
     "name": "stdout",
     "output_type": "stream",
     "text": [
      "Accuracy:  1.0\n",
      "Predictions:\n",
      "4 Malignant\n",
      "4 Malignant\n",
      "2 Benign\n"
     ]
    }
   ],
   "source": [
    "import pandas as pd\n",
    "import numpy as np\n",
    "from sklearn import neighbors, preprocessing\n",
    "from sklearn import model_selection as cross_validate\n",
    "\n",
    "data = pd.read_csv('breast-cancer-wisconsin.data')\n",
    "\n",
    "# delete the unwanted id column\n",
    "data.drop(['id'], 1, inplace=True)\n",
    "\n",
    "# make up for missing entries\n",
    "data.replace('?', -9999, inplace=True)\n",
    "\n",
    "# get our attributes and classes in place\n",
    "X = np.array(data.drop(['class'], 1))\n",
    "y = np.array(data['class'])\n",
    "\n",
    "# split data into training and testing sections\n",
    "X_train, X_test, y_train, y_test = cross_validate.train_test_split(X, y, test_size=0.2)\n",
    "\n",
    "# initialize our classifier\n",
    "knn = neighbors.KNeighborsClassifier()\n",
    "\n",
    "# fit the classifier with the training data\n",
    "knn.fit(X_train, y_train) # To be completed)\n",
    "\n",
    "\n",
    "# calculating accuracy with test data\n",
    "accuracy = knn.score(X_test, y_test)\n",
    "\n",
    "# let's make a prediction\n",
    "new_tests = np.array([[10, 10, 2, 3, 10, 2, 1, 8, 44], [10, 1, 12, 3, 1, 12, 1, 8, 12], [3, 1, 1, 3, 1, 12, 1, 2, 1]])\n",
    "new_tests = new_tests.reshape(len(new_tests), -1)\n",
    "prediction = knn.predict(new_tests)\n",
    "\n",
    "# print out details\n",
    "print (\"Accuracy: \", accuracy)\n",
    "\n",
    "print (\"Predictions:\")\n",
    "for pred in prediction:\n",
    "\tif pred == 2:\n",
    "\t\tprint(pred, \"Benign\")\n",
    "\telse: print(pred, \"Malignant\")"
   ]
  },
  {
   "cell_type": "code",
   "execution_count": null,
   "metadata": {},
   "outputs": [],
   "source": []
  }
 ],
 "metadata": {
  "kernelspec": {
   "display_name": "Python 3",
   "language": "python",
   "name": "python3"
  },
  "language_info": {
   "codemirror_mode": {
    "name": "ipython",
    "version": 3
   },
   "file_extension": ".py",
   "mimetype": "text/x-python",
   "name": "python",
   "nbconvert_exporter": "python",
   "pygments_lexer": "ipython3",
   "version": "3.8.5"
  }
 },
 "nbformat": 4,
 "nbformat_minor": 4
}
